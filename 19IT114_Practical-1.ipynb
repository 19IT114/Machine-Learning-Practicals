{
 "cells": [
  {
   "cell_type": "markdown",
   "id": "35152d6a",
   "metadata": {},
   "source": [
    "### 1. Creating blank array, with predefined data, with pattern specific\n"
   ]
  },
  {
   "cell_type": "code",
   "execution_count": null,
   "id": "fb3ff1a8",
   "metadata": {},
   "outputs": [],
   "source": [
    "# Python program for\n",
    "# Creation of Arrays"
   ]
  },
  {
   "cell_type": "code",
   "execution_count": 4,
   "id": "f38000e8",
   "metadata": {},
   "outputs": [
    {
     "name": "stdout",
     "output_type": "stream",
     "text": [
      "[[0. 0. 0.]\n",
      " [0. 0. 0.]\n",
      " [0. 0. 0.]\n",
      " [0. 0. 0.]\n",
      " [0. 0. 0.]]\n"
     ]
    }
   ],
   "source": [
    "import numpy as np\n",
    "empty_arr = np.empty([5,3])\n",
    "print(empty_arr)"
   ]
  },
  {
   "cell_type": "code",
   "execution_count": 20,
   "id": "bce16028",
   "metadata": {},
   "outputs": [
    {
     "name": "stdout",
     "output_type": "stream",
     "text": [
      "[[[22518393277644867 32088589733920882 27303364805853281]\n",
      "  [18296268629540980 31244147623002222 14355640430624878]\n",
      "  [33214519704879196 29555241927835763 26740565175500914]]\n",
      "\n",
      " [[32651548273737777 25895921198891057 25896118771056748]\n",
      "  [28429470870863987 27866439313522733 28429415035764843]\n",
      "  [32933044727578739 25896217555763309 28147970123825266]]\n",
      "\n",
      " [[26740517931647087 28429445100798055 31244220637446258]\n",
      "  [31525622596370546 33495715505700915 27303480770035817]\n",
      "  [14636930723741805 28148017369448494                 0]]]\n",
      "[[[22518393277644867 32088589733920882 27303364805853281]\n",
      "  [18296268629540980 31244147623002222 14355640430624878]\n",
      "  [33214519704879196 29555241927835763 26740565175500914]]\n",
      "\n",
      " [[32651548273737777 25895921198891057 25896118771056748]\n",
      "  [28429470870863987 27866439313522733 28429415035764843]\n",
      "  [32933044727578739 25896217555763309 28147970123825266]]\n",
      "\n",
      " [[26740517931647087 28429445100798055 31244220637446258]\n",
      "  [31525622596370546 33495715505700915 27303480770035817]\n",
      "  [14636930723741805 28148017369448494                 0]]]\n"
     ]
    }
   ],
   "source": [
    "empty_arr = np.empty((3,3,3), dtype=np.int64)\n",
    "print(empty_arr)\n",
    "print(empty_arr)"
   ]
  },
  {
   "cell_type": "code",
   "execution_count": 29,
   "id": "d3ab4aca",
   "metadata": {},
   "outputs": [
    {
     "name": "stdout",
     "output_type": "stream",
     "text": [
      "[[1 1 2 2]\n",
      " [1 1 3 4]]\n"
     ]
    }
   ],
   "source": [
    "string_arr = np.array([[2,2,2,2],[1,2,3,4]])\n",
    "string_arr[0:2,0:2] = 1\n",
    "print(string_arr)"
   ]
  },
  {
   "cell_type": "code",
   "execution_count": 15,
   "id": "f9625fc4",
   "metadata": {},
   "outputs": [
    {
     "name": "stdout",
     "output_type": "stream",
     "text": [
      "Name :  Virag\n",
      "Surname :  Patel\n",
      "ID.No :  19IT114\n"
     ]
    }
   ],
   "source": [
    "det = ([\"Virag\",\"Patel\",\"19IT114\"])\n",
    "print(\"Name : \", det[0])\n",
    "print(\"Surname : \", det[1])\n",
    "print(\"ID.No : \",det[2])"
   ]
  },
  {
   "cell_type": "markdown",
   "id": "f2dc3e69",
   "metadata": {},
   "source": [
    "### 2. Slicing and Updating elements."
   ]
  },
  {
   "cell_type": "code",
   "execution_count": 22,
   "id": "2e7a35ae",
   "metadata": {},
   "outputs": [
    {
     "name": "stdout",
     "output_type": "stream",
     "text": [
      "Viraj ->  ['Viraj' '19IT117' 'Patva']\n",
      "Mrugren ->  ['Mrugren' '19IT127' 'Desai']\n",
      "Shrey -> ['Shrey' '19IT059' 'Makwana']\n"
     ]
    }
   ],
   "source": [
    "\n",
    "Details = np.array([[\"Viraj\",\"Aayush\",\"Shrey\"],[\"19IT117\",\"19IT127\",\"19IT059\"],[\"Patva\",\"Desai\",\"Makwana\"]])\n",
    "\n",
    "Details[0][1] = \"Mrugrendra\"\n",
    "\n",
    "print (Details[0][0],\"-> \",Details[:,0])\n",
    "print (Details[0][1],\"-> \",Details[:,1])\n",
    "print (Details[0][2],\"->\",Details[:,2])\n",
    "\n"
   ]
  },
  {
   "cell_type": "markdown",
   "id": "67f815e3",
   "metadata": {},
   "source": [
    "### 3. Shape manipulations"
   ]
  },
  {
   "cell_type": "code",
   "execution_count": 37,
   "id": "b5461671",
   "metadata": {},
   "outputs": [
    {
     "name": "stdout",
     "output_type": "stream",
     "text": [
      "Iden [[1. 0. 0. 0. 0.]\n",
      " [0. 1. 0. 0. 0.]\n",
      " [0. 0. 1. 0. 0.]\n",
      " [0. 0. 0. 1. 0.]\n",
      " [0. 0. 0. 0. 1.]]\n",
      "A =  [[1.]\n",
      " [0.]\n",
      " [0.]\n",
      " [0.]\n",
      " [1.]\n",
      " [0.]\n",
      " [0.]\n",
      " [0.]\n",
      " [1.]]\n"
     ]
    }
   ],
   "source": [
    "identity = np.eye(5,5)\n",
    "print(\"Iden\",identity)\n",
    "a = np.reshape(identity[0:3,0:3],(9,1))\n",
    "print(\"A = \",a)"
   ]
  },
  {
   "cell_type": "markdown",
   "id": "52e46d75",
   "metadata": {},
   "source": [
    "### 4. Looping over Arrays\n"
   ]
  },
  {
   "cell_type": "code",
   "execution_count": 42,
   "id": "1c20d4b0",
   "metadata": {},
   "outputs": [
    {
     "name": "stdout",
     "output_type": "stream",
     "text": [
      "0\n",
      "1\n",
      "2\n",
      "3\n",
      "4\n",
      "range(0, 5)\n"
     ]
    }
   ],
   "source": [
    "a = range (5)\n",
    "for i in a:\n",
    "    print(i)\n",
    "print(a)"
   ]
  },
  {
   "cell_type": "code",
   "execution_count": null,
   "id": "800894df",
   "metadata": {},
   "outputs": [],
   "source": []
  }
 ],
 "metadata": {
  "kernelspec": {
   "display_name": "Python 3 (ipykernel)",
   "language": "python",
   "name": "python3"
  },
  "language_info": {
   "codemirror_mode": {
    "name": "ipython",
    "version": 3
   },
   "file_extension": ".py",
   "mimetype": "text/x-python",
   "name": "python",
   "nbconvert_exporter": "python",
   "pygments_lexer": "ipython3",
   "version": "3.7.6"
  }
 },
 "nbformat": 4,
 "nbformat_minor": 5
}
