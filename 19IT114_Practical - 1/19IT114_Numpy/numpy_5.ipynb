{
 "cells": [
  {
   "cell_type": "code",
   "execution_count": 1,
   "id": "fdedd9db",
   "metadata": {},
   "outputs": [
    {
     "name": "stdout",
     "output_type": "stream",
     "text": [
      "[128  89 119]\n",
      "['Dhrumil' 'Deep' 'Kailash']\n"
     ]
    }
   ],
   "source": [
    "import numpy as np\n",
    "x=np.array([128,89,119],int)\n",
    "y=np.array([\"Dhrumil\",\"Deep\",\"Kailash\",])\n",
    "print(x)\n",
    "print(y)"
   ]
  },
  {
   "cell_type": "code",
   "execution_count": 2,
   "id": "42b204c7",
   "metadata": {},
   "outputs": [
    {
     "name": "stdout",
     "output_type": "stream",
     "text": [
      "[  1 128]\n",
      "[  1 128   3]\n"
     ]
    }
   ],
   "source": [
    "import numpy as np\n",
    "x=np.array([1,2,3])\n",
    "x[1]=128\n",
    "print(x[0:2])\n",
    "print(x)"
   ]
  },
  {
   "cell_type": "code",
   "execution_count": 3,
   "id": "f20864b7",
   "metadata": {},
   "outputs": [
    {
     "name": "stdout",
     "output_type": "stream",
     "text": [
      "[['128' '89' '119']\n",
      " ['Dhrumil' 'Deep' 'Kailash']]\n",
      "reshaped array :  [['128']\n",
      " ['89']\n",
      " ['119']\n",
      " ['Dhrumil']\n",
      " ['Deep']\n",
      " ['Kailash']]\n"
     ]
    }
   ],
   "source": [
    "import numpy as np\n",
    "x=np.array([[128,89,119],[\"Dhrumil\",\"Deep\",\"Kailash\",]])\n",
    "new_array=np.reshape(x,(-1,1))\n",
    "print(x)\n",
    "print(\"reshaped array : \", new_array)"
   ]
  },
  {
   "cell_type": "code",
   "execution_count": 4,
   "id": "c7e3b65d",
   "metadata": {},
   "outputs": [
    {
     "name": "stdout",
     "output_type": "stream",
     "text": [
      "['128' '89' '119']\n",
      "['Dhrumil' 'Deep' 'Kailash']\n"
     ]
    }
   ],
   "source": [
    "import numpy as np\n",
    "x=np.array([[128,89,119],[\"Dhrumil\",\"Deep\",\"Kailash\",]])\n",
    "for y in x:\n",
    "    print(y)"
   ]
  },
  {
   "cell_type": "code",
   "execution_count": 5,
   "id": "9aa12ee1",
   "metadata": {},
   "outputs": [
    {
     "name": "stdout",
     "output_type": "stream",
     "text": [
      "[['HI' 'I' 'AM' 'DHRUMIL' 'SHAH']\n",
      " ['ID' ':' '19IT128' 'CHARUSAT' 'UNIVERSITY']]\n"
     ]
    }
   ],
   "source": [
    "import numpy as np\n",
    "file = np.loadtxt(\"19IT128.txt\", dtype=str)\n",
    "print(file)\n"
   ]
  },
  {
   "cell_type": "code",
   "execution_count": null,
   "id": "b4013c4a",
   "metadata": {},
   "outputs": [],
   "source": []
  }
 ],
 "metadata": {
  "kernelspec": {
   "display_name": "Python 3 (ipykernel)",
   "language": "python",
   "name": "python3"
  },
  "language_info": {
   "codemirror_mode": {
    "name": "ipython",
    "version": 3
   },
   "file_extension": ".py",
   "mimetype": "text/x-python",
   "name": "python",
   "nbconvert_exporter": "python",
   "pygments_lexer": "ipython3",
   "version": "3.9.7"
  }
 },
 "nbformat": 4,
 "nbformat_minor": 5
}
