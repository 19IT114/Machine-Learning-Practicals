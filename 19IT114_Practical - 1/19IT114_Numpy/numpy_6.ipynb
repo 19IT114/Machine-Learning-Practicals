{
 "cells": [
  {
   "cell_type": "code",
   "execution_count": 1,
   "id": "dc402837",
   "metadata": {},
   "outputs": [
    {
     "name": "stdout",
     "output_type": "stream",
     "text": [
      "[128  89 119]\n",
      "['Dhrumil' 'Deep' 'Kailash']\n"
     ]
    }
   ],
   "source": [
    "import numpy as np\n",
    "x=np.array([128,89,119],int)\n",
    "y=np.array([\"Dhrumil\",\"Deep\",\"Kailash\",])\n",
    "print(x)\n",
    "print(y)"
   ]
  },
  {
   "cell_type": "code",
   "execution_count": 2,
   "id": "ef972e69",
   "metadata": {},
   "outputs": [
    {
     "name": "stdout",
     "output_type": "stream",
     "text": [
      "[  1 128]\n",
      "[  1 128   3]\n"
     ]
    }
   ],
   "source": [
    "import numpy as np\n",
    "x=np.array([1,2,3])\n",
    "x[1]=128\n",
    "print(x[0:2])\n",
    "print(x)"
   ]
  },
  {
   "cell_type": "code",
   "execution_count": 3,
   "id": "f22b5e56",
   "metadata": {},
   "outputs": [
    {
     "name": "stdout",
     "output_type": "stream",
     "text": [
      "[['128' '89' '119']\n",
      " ['Dhrumil' 'Deep' 'Kailash']]\n",
      "reshaped array :  [['128']\n",
      " ['89']\n",
      " ['119']\n",
      " ['Dhrumil']\n",
      " ['Deep']\n",
      " ['Kailash']]\n"
     ]
    }
   ],
   "source": [
    "import numpy as np\n",
    "x=np.array([[128,89,119],[\"Dhrumil\",\"Deep\",\"Kailash\",]])\n",
    "new_array=np.reshape(x,(-1,1))\n",
    "print(x)\n",
    "print(\"reshaped array : \", new_array)"
   ]
  },
  {
   "cell_type": "code",
   "execution_count": 4,
   "id": "58b1d880",
   "metadata": {},
   "outputs": [
    {
     "name": "stdout",
     "output_type": "stream",
     "text": [
      "['128' '89' '119']\n",
      "['Dhrumil' 'Deep' 'Kailash']\n"
     ]
    }
   ],
   "source": [
    "import numpy as np\n",
    "x=np.array([[128,89,119],[\"Dhrumil\",\"Deep\",\"Kailash\",]])\n",
    "for y in x:\n",
    "    print(y)"
   ]
  },
  {
   "cell_type": "code",
   "execution_count": 5,
   "id": "7035e150",
   "metadata": {},
   "outputs": [
    {
     "name": "stdout",
     "output_type": "stream",
     "text": [
      "[['HI' 'I' 'AM' 'DHRUMIL' 'SHAH']\n",
      " ['ID' ':' '19IT128' 'CHARUSAT' 'UNIVERSITY']]\n"
     ]
    }
   ],
   "source": [
    "import numpy as np\n",
    "file = np.loadtxt(\"19IT128.txt\", dtype=str)\n",
    "print(file)\n"
   ]
  },
  {
   "cell_type": "code",
   "execution_count": 6,
   "id": "c282b9d7",
   "metadata": {},
   "outputs": [
    {
     "name": "stdout",
     "output_type": "stream",
     "text": [
      "1.648721229963447\n",
      " Run Time = 0.9106135368347168\n",
      "Run time = 0.015624284744262695\n"
     ]
    },
    {
     "name": "stderr",
     "output_type": "stream",
     "text": [
      "C:\\Users\\DELL\\AppData\\Local\\Temp/ipykernel_10796/2834916583.py:17: DeprecationWarning: `np.float` is a deprecated alias for the builtin `float`. To silence this warning, use `float` by itself. Doing this will not modify any behavior and is safe. If you specifically wanted the numpy scalar type, use `np.float64` here.\n",
      "Deprecated in NumPy 1.20; for more details and guidance: https://numpy.org/devdocs/release/1.20.0-notes.html#deprecations\n",
      "  data = np.ones(shape=(1000,1000),dtype=np.float)\n"
     ]
    }
   ],
   "source": [
    "import numpy as np\n",
    "import time\n",
    "\n",
    "start_time = time.time()\n",
    "num_multiply = 5000000\n",
    "data = range(num_multiply)\n",
    "number = 1\n",
    "\n",
    "for i in data:\n",
    "    number *= 1.0000001\n",
    "   \n",
    "end_time = time.time()\n",
    "print(number)\n",
    "print (\" Run Time = {}\".format(end_time - start_time))\n",
    "\n",
    "start_time = time.time()\n",
    "data = np.ones(shape=(1000,1000),dtype=np.float)\n",
    "\n",
    "for i in range(5):\n",
    "    data *=1.0000001\n",
    "   \n",
    "end_time = time.time()\n",
    "print(\"Run time = {}\".format(end_time - start_time))"
   ]
  },
  {
   "cell_type": "code",
   "execution_count": null,
   "id": "3830f741",
   "metadata": {},
   "outputs": [],
   "source": []
  }
 ],
 "metadata": {
  "kernelspec": {
   "display_name": "Python 3 (ipykernel)",
   "language": "python",
   "name": "python3"
  },
  "language_info": {
   "codemirror_mode": {
    "name": "ipython",
    "version": 3
   },
   "file_extension": ".py",
   "mimetype": "text/x-python",
   "name": "python",
   "nbconvert_exporter": "python",
   "pygments_lexer": "ipython3",
   "version": "3.9.7"
  }
 },
 "nbformat": 4,
 "nbformat_minor": 5
}
