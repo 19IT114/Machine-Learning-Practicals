{
 "cells": [
  {
   "cell_type": "markdown",
   "metadata": {},
   "source": [
    "### 1. Importing the Dataset"
   ]
  },
  {
   "cell_type": "code",
   "execution_count": 3,
   "metadata": {},
   "outputs": [],
   "source": [
    "import pandas as pd"
   ]
  },
  {
   "cell_type": "code",
   "execution_count": 4,
   "metadata": {},
   "outputs": [],
   "source": [
    "data = pd.read_csv(\"house_price_prediction_PR2.csv\")"
   ]
  },
  {
   "cell_type": "markdown",
   "metadata": {},
   "source": [
    "### 2. Total Number of observations in data"
   ]
  },
  {
   "cell_type": "code",
   "execution_count": 5,
   "metadata": {},
   "outputs": [
    {
     "data": {
      "text/plain": [
       "(5012, 7)"
      ]
     },
     "execution_count": 5,
     "metadata": {},
     "output_type": "execute_result"
    }
   ],
   "source": [
    "data.shape"
   ]
  },
  {
   "cell_type": "markdown",
   "metadata": {},
   "source": [
    "### 3. Independent Variables"
   ]
  },
  {
   "cell_type": "code",
   "execution_count": 6,
   "metadata": {},
   "outputs": [
    {
     "data": {
      "text/html": [
       "<div>\n",
       "<style scoped>\n",
       "    .dataframe tbody tr th:only-of-type {\n",
       "        vertical-align: middle;\n",
       "    }\n",
       "\n",
       "    .dataframe tbody tr th {\n",
       "        vertical-align: top;\n",
       "    }\n",
       "\n",
       "    .dataframe thead th {\n",
       "        text-align: right;\n",
       "    }\n",
       "</style>\n",
       "<table border=\"1\" class=\"dataframe\">\n",
       "  <thead>\n",
       "    <tr style=\"text-align: right;\">\n",
       "      <th></th>\n",
       "      <th>avg_income</th>\n",
       "      <th>avg_area_house_age</th>\n",
       "      <th>avg_area_num_rooms</th>\n",
       "      <th>avg_bedrooms</th>\n",
       "      <th>avg_population</th>\n",
       "      <th>price</th>\n",
       "      <th>address</th>\n",
       "    </tr>\n",
       "  </thead>\n",
       "  <tbody>\n",
       "    <tr>\n",
       "      <th>0</th>\n",
       "      <td>79545.45857</td>\n",
       "      <td>5.682861</td>\n",
       "      <td>7.009188</td>\n",
       "      <td>4.09</td>\n",
       "      <td>23086.80050</td>\n",
       "      <td>1.059034e+06</td>\n",
       "      <td>208 Michael Ferry Apt. 674\\nLaurabury, NE 3701...</td>\n",
       "    </tr>\n",
       "    <tr>\n",
       "      <th>1</th>\n",
       "      <td>79248.64245</td>\n",
       "      <td>6.002900</td>\n",
       "      <td>6.730821</td>\n",
       "      <td>3.09</td>\n",
       "      <td>40173.07217</td>\n",
       "      <td>1.505891e+06</td>\n",
       "      <td>188 Johnson Views Suite 079\\nLake Kathleen, CA...</td>\n",
       "    </tr>\n",
       "    <tr>\n",
       "      <th>2</th>\n",
       "      <td>61287.06718</td>\n",
       "      <td>5.865890</td>\n",
       "      <td>8.512727</td>\n",
       "      <td>5.13</td>\n",
       "      <td>36882.15940</td>\n",
       "      <td>1.058988e+06</td>\n",
       "      <td>9127 Elizabeth Stravenue\\nDanieltown, WI 06482...</td>\n",
       "    </tr>\n",
       "    <tr>\n",
       "      <th>3</th>\n",
       "      <td>63345.24005</td>\n",
       "      <td>7.188236</td>\n",
       "      <td>5.586729</td>\n",
       "      <td>3.26</td>\n",
       "      <td>34310.24283</td>\n",
       "      <td>1.260617e+06</td>\n",
       "      <td>USS Barnett\\nFPO AP 44820</td>\n",
       "    </tr>\n",
       "    <tr>\n",
       "      <th>4</th>\n",
       "      <td>59982.19723</td>\n",
       "      <td>5.040555</td>\n",
       "      <td>7.839388</td>\n",
       "      <td>4.23</td>\n",
       "      <td>26354.10947</td>\n",
       "      <td>6.309435e+05</td>\n",
       "      <td>USNS Raymond\\nFPO AE 09386</td>\n",
       "    </tr>\n",
       "    <tr>\n",
       "      <th>...</th>\n",
       "      <td>...</td>\n",
       "      <td>...</td>\n",
       "      <td>...</td>\n",
       "      <td>...</td>\n",
       "      <td>...</td>\n",
       "      <td>...</td>\n",
       "      <td>...</td>\n",
       "    </tr>\n",
       "    <tr>\n",
       "      <th>5007</th>\n",
       "      <td>60567.94414</td>\n",
       "      <td>7.830362</td>\n",
       "      <td>6.137356</td>\n",
       "      <td>3.46</td>\n",
       "      <td>22837.36103</td>\n",
       "      <td>1.060194e+06</td>\n",
       "      <td>USNS Williams\\nFPO AP 30153-7653</td>\n",
       "    </tr>\n",
       "    <tr>\n",
       "      <th>5008</th>\n",
       "      <td>NaN</td>\n",
       "      <td>6.999135</td>\n",
       "      <td>6.576763</td>\n",
       "      <td>4.02</td>\n",
       "      <td>25616.11549</td>\n",
       "      <td>1.482618e+06</td>\n",
       "      <td>PSC 9258, Box 8489\\nAPO AA 42991-3352</td>\n",
       "    </tr>\n",
       "    <tr>\n",
       "      <th>5009</th>\n",
       "      <td>NaN</td>\n",
       "      <td>7.250591</td>\n",
       "      <td>4.805081</td>\n",
       "      <td>2.13</td>\n",
       "      <td>33266.14549</td>\n",
       "      <td>1.030730e+06</td>\n",
       "      <td>4215 Tracy Garden Suite 076\\nJoshualand, VA 01...</td>\n",
       "    </tr>\n",
       "    <tr>\n",
       "      <th>5010</th>\n",
       "      <td>68001.33124</td>\n",
       "      <td>5.534388</td>\n",
       "      <td>7.130144</td>\n",
       "      <td>5.44</td>\n",
       "      <td>42625.62016</td>\n",
       "      <td>1.198657e+06</td>\n",
       "      <td>USS Wallace\\nFPO AE 73316</td>\n",
       "    </tr>\n",
       "    <tr>\n",
       "      <th>5011</th>\n",
       "      <td>65510.58180</td>\n",
       "      <td>5.992305</td>\n",
       "      <td>6.792336</td>\n",
       "      <td>4.07</td>\n",
       "      <td>46501.28380</td>\n",
       "      <td>1.298950e+06</td>\n",
       "      <td>37778 George Ridges Apt. 509\\nEast Holly, NV 2...</td>\n",
       "    </tr>\n",
       "  </tbody>\n",
       "</table>\n",
       "<p>5012 rows × 7 columns</p>\n",
       "</div>"
      ],
      "text/plain": [
       "       avg_income  avg_area_house_age  avg_area_num_rooms  avg_bedrooms  \\\n",
       "0     79545.45857            5.682861            7.009188          4.09   \n",
       "1     79248.64245            6.002900            6.730821          3.09   \n",
       "2     61287.06718            5.865890            8.512727          5.13   \n",
       "3     63345.24005            7.188236            5.586729          3.26   \n",
       "4     59982.19723            5.040555            7.839388          4.23   \n",
       "...           ...                 ...                 ...           ...   \n",
       "5007  60567.94414            7.830362            6.137356          3.46   \n",
       "5008          NaN            6.999135            6.576763          4.02   \n",
       "5009          NaN            7.250591            4.805081          2.13   \n",
       "5010  68001.33124            5.534388            7.130144          5.44   \n",
       "5011  65510.58180            5.992305            6.792336          4.07   \n",
       "\n",
       "      avg_population         price  \\\n",
       "0        23086.80050  1.059034e+06   \n",
       "1        40173.07217  1.505891e+06   \n",
       "2        36882.15940  1.058988e+06   \n",
       "3        34310.24283  1.260617e+06   \n",
       "4        26354.10947  6.309435e+05   \n",
       "...              ...           ...   \n",
       "5007     22837.36103  1.060194e+06   \n",
       "5008     25616.11549  1.482618e+06   \n",
       "5009     33266.14549  1.030730e+06   \n",
       "5010     42625.62016  1.198657e+06   \n",
       "5011     46501.28380  1.298950e+06   \n",
       "\n",
       "                                                address  \n",
       "0     208 Michael Ferry Apt. 674\\nLaurabury, NE 3701...  \n",
       "1     188 Johnson Views Suite 079\\nLake Kathleen, CA...  \n",
       "2     9127 Elizabeth Stravenue\\nDanieltown, WI 06482...  \n",
       "3                             USS Barnett\\nFPO AP 44820  \n",
       "4                            USNS Raymond\\nFPO AE 09386  \n",
       "...                                                 ...  \n",
       "5007                   USNS Williams\\nFPO AP 30153-7653  \n",
       "5008              PSC 9258, Box 8489\\nAPO AA 42991-3352  \n",
       "5009  4215 Tracy Garden Suite 076\\nJoshualand, VA 01...  \n",
       "5010                          USS Wallace\\nFPO AE 73316  \n",
       "5011  37778 George Ridges Apt. 509\\nEast Holly, NV 2...  \n",
       "\n",
       "[5012 rows x 7 columns]"
      ]
     },
     "execution_count": 6,
     "metadata": {},
     "output_type": "execute_result"
    }
   ],
   "source": [
    "data"
   ]
  },
  {
   "cell_type": "markdown",
   "metadata": {},
   "source": [
    "##### Here in this particular dataset, the address of the house is the independent varibale as it is not correlated to any other variable. "
   ]
  },
  {
   "cell_type": "markdown",
   "metadata": {},
   "source": [
    "### 4. Correlation and De"
   ]
  },
  {
   "cell_type": "code",
   "execution_count": 7,
   "metadata": {},
   "outputs": [
    {
     "data": {
      "text/html": [
       "<div>\n",
       "<style scoped>\n",
       "    .dataframe tbody tr th:only-of-type {\n",
       "        vertical-align: middle;\n",
       "    }\n",
       "\n",
       "    .dataframe tbody tr th {\n",
       "        vertical-align: top;\n",
       "    }\n",
       "\n",
       "    .dataframe thead th {\n",
       "        text-align: right;\n",
       "    }\n",
       "</style>\n",
       "<table border=\"1\" class=\"dataframe\">\n",
       "  <thead>\n",
       "    <tr style=\"text-align: right;\">\n",
       "      <th></th>\n",
       "      <th>avg_income</th>\n",
       "      <th>avg_area_house_age</th>\n",
       "      <th>avg_area_num_rooms</th>\n",
       "      <th>avg_bedrooms</th>\n",
       "      <th>avg_population</th>\n",
       "      <th>price</th>\n",
       "    </tr>\n",
       "  </thead>\n",
       "  <tbody>\n",
       "    <tr>\n",
       "      <th>avg_income</th>\n",
       "      <td>1.000000</td>\n",
       "      <td>-0.002213</td>\n",
       "      <td>-0.010668</td>\n",
       "      <td>0.020911</td>\n",
       "      <td>-0.015741</td>\n",
       "      <td>0.640293</td>\n",
       "    </tr>\n",
       "    <tr>\n",
       "      <th>avg_area_house_age</th>\n",
       "      <td>-0.002213</td>\n",
       "      <td>1.000000</td>\n",
       "      <td>-0.012728</td>\n",
       "      <td>0.003275</td>\n",
       "      <td>-0.018932</td>\n",
       "      <td>0.451340</td>\n",
       "    </tr>\n",
       "    <tr>\n",
       "      <th>avg_area_num_rooms</th>\n",
       "      <td>-0.010668</td>\n",
       "      <td>-0.012728</td>\n",
       "      <td>1.000000</td>\n",
       "      <td>0.462889</td>\n",
       "      <td>0.001966</td>\n",
       "      <td>0.334151</td>\n",
       "    </tr>\n",
       "    <tr>\n",
       "      <th>avg_bedrooms</th>\n",
       "      <td>0.020911</td>\n",
       "      <td>0.003275</td>\n",
       "      <td>0.462889</td>\n",
       "      <td>1.000000</td>\n",
       "      <td>-0.021321</td>\n",
       "      <td>0.170628</td>\n",
       "    </tr>\n",
       "    <tr>\n",
       "      <th>avg_population</th>\n",
       "      <td>-0.015741</td>\n",
       "      <td>-0.018932</td>\n",
       "      <td>0.001966</td>\n",
       "      <td>-0.021321</td>\n",
       "      <td>1.000000</td>\n",
       "      <td>0.409306</td>\n",
       "    </tr>\n",
       "    <tr>\n",
       "      <th>price</th>\n",
       "      <td>0.640293</td>\n",
       "      <td>0.451340</td>\n",
       "      <td>0.334151</td>\n",
       "      <td>0.170628</td>\n",
       "      <td>0.409306</td>\n",
       "      <td>1.000000</td>\n",
       "    </tr>\n",
       "  </tbody>\n",
       "</table>\n",
       "</div>"
      ],
      "text/plain": [
       "                    avg_income  avg_area_house_age  avg_area_num_rooms  \\\n",
       "avg_income            1.000000           -0.002213           -0.010668   \n",
       "avg_area_house_age   -0.002213            1.000000           -0.012728   \n",
       "avg_area_num_rooms   -0.010668           -0.012728            1.000000   \n",
       "avg_bedrooms          0.020911            0.003275            0.462889   \n",
       "avg_population       -0.015741           -0.018932            0.001966   \n",
       "price                 0.640293            0.451340            0.334151   \n",
       "\n",
       "                    avg_bedrooms  avg_population     price  \n",
       "avg_income              0.020911       -0.015741  0.640293  \n",
       "avg_area_house_age      0.003275       -0.018932  0.451340  \n",
       "avg_area_num_rooms      0.462889        0.001966  0.334151  \n",
       "avg_bedrooms            1.000000       -0.021321  0.170628  \n",
       "avg_population         -0.021321        1.000000  0.409306  \n",
       "price                   0.170628        0.409306  1.000000  "
      ]
     },
     "execution_count": 7,
     "metadata": {},
     "output_type": "execute_result"
    }
   ],
   "source": [
    "data.corr()"
   ]
  },
  {
   "cell_type": "markdown",
   "metadata": {},
   "source": [
    "##### Here every variable has a positive correlation coefficient with the target variable ( price ), except the address of the house as it is not a numberic data. Therefore address is the independent variable and other all are dependent variables."
   ]
  },
  {
   "cell_type": "markdown",
   "metadata": {},
   "source": [
    "### 5. Implementing Linear Regression using Ordinary Least Square (OLS) Method"
   ]
  },
  {
   "cell_type": "code",
   "execution_count": 18,
   "metadata": {},
   "outputs": [],
   "source": [
    "import statsmodels.api as sm"
   ]
  },
  {
   "cell_type": "code",
   "execution_count": 23,
   "metadata": {},
   "outputs": [],
   "source": [
    "y = data['price'] ## Dependent Variable\n",
    "x = data['avg_bedrooms'] ## Independent Variable\n",
    "\n",
    "x = sm.add_constant(x) # adding a constant\n",
    "lm = sm.OLS(y,x).fit() # fitting the model"
   ]
  },
  {
   "cell_type": "code",
   "execution_count": 24,
   "metadata": {},
   "outputs": [
    {
     "data": {
      "text/plain": [
       "0       1.237214e+06\n",
       "1       1.188408e+06\n",
       "2       1.287972e+06\n",
       "3       1.196705e+06\n",
       "4       1.244047e+06\n",
       "            ...     \n",
       "5007    1.206466e+06\n",
       "5008    1.233797e+06\n",
       "5009    1.141555e+06\n",
       "5010    1.303101e+06\n",
       "5011    1.236238e+06\n",
       "Length: 5012, dtype: float64"
      ]
     },
     "execution_count": 24,
     "metadata": {},
     "output_type": "execute_result"
    }
   ],
   "source": [
    "lm.predict(x)"
   ]
  },
  {
   "cell_type": "code",
   "execution_count": 25,
   "metadata": {},
   "outputs": [
    {
     "data": {
      "text/html": [
       "<table class=\"simpletable\">\n",
       "<caption>OLS Regression Results</caption>\n",
       "<tr>\n",
       "  <th>Dep. Variable:</th>          <td>price</td>      <th>  R-squared:         </th> <td>   0.029</td> \n",
       "</tr>\n",
       "<tr>\n",
       "  <th>Model:</th>                   <td>OLS</td>       <th>  Adj. R-squared:    </th> <td>   0.029</td> \n",
       "</tr>\n",
       "<tr>\n",
       "  <th>Method:</th>             <td>Least Squares</td>  <th>  F-statistic:       </th> <td>   150.2</td> \n",
       "</tr>\n",
       "<tr>\n",
       "  <th>Date:</th>             <td>Fri, 07 Jan 2022</td> <th>  Prob (F-statistic):</th> <td>4.72e-34</td> \n",
       "</tr>\n",
       "<tr>\n",
       "  <th>Time:</th>                 <td>11:04:28</td>     <th>  Log-Likelihood:    </th> <td> -71061.</td> \n",
       "</tr>\n",
       "<tr>\n",
       "  <th>No. Observations:</th>      <td>  5012</td>      <th>  AIC:               </th> <td>1.421e+05</td>\n",
       "</tr>\n",
       "<tr>\n",
       "  <th>Df Residuals:</th>          <td>  5010</td>      <th>  BIC:               </th> <td>1.421e+05</td>\n",
       "</tr>\n",
       "<tr>\n",
       "  <th>Df Model:</th>              <td>     1</td>      <th>                     </th>     <td> </td>    \n",
       "</tr>\n",
       "<tr>\n",
       "  <th>Covariance Type:</th>      <td>nonrobust</td>    <th>                     </th>     <td> </td>    \n",
       "</tr>\n",
       "</table>\n",
       "<table class=\"simpletable\">\n",
       "<tr>\n",
       "        <td></td>          <th>coef</th>     <th>std err</th>      <th>t</th>      <th>P>|t|</th>  <th>[0.025</th>    <th>0.975]</th>  \n",
       "</tr>\n",
       "<tr>\n",
       "  <th>const</th>        <td> 1.038e+06</td> <td> 1.66e+04</td> <td>   62.507</td> <td> 0.000</td> <td> 1.01e+06</td> <td> 1.07e+06</td>\n",
       "</tr>\n",
       "<tr>\n",
       "  <th>avg_bedrooms</th> <td> 4.881e+04</td> <td> 3981.858</td> <td>   12.257</td> <td> 0.000</td> <td>  4.1e+04</td> <td> 5.66e+04</td>\n",
       "</tr>\n",
       "</table>\n",
       "<table class=\"simpletable\">\n",
       "<tr>\n",
       "  <th>Omnibus:</th>       <td> 0.784</td> <th>  Durbin-Watson:     </th> <td>   1.994</td>\n",
       "</tr>\n",
       "<tr>\n",
       "  <th>Prob(Omnibus):</th> <td> 0.676</td> <th>  Jarque-Bera (JB):  </th> <td>   0.821</td>\n",
       "</tr>\n",
       "<tr>\n",
       "  <th>Skew:</th>          <td> 0.005</td> <th>  Prob(JB):          </th> <td>   0.663</td>\n",
       "</tr>\n",
       "<tr>\n",
       "  <th>Kurtosis:</th>      <td> 2.938</td> <th>  Cond. No.          </th> <td>    14.8</td>\n",
       "</tr>\n",
       "</table><br/><br/>Notes:<br/>[1] Standard Errors assume that the covariance matrix of the errors is correctly specified."
      ],
      "text/plain": [
       "<class 'statsmodels.iolib.summary.Summary'>\n",
       "\"\"\"\n",
       "                            OLS Regression Results                            \n",
       "==============================================================================\n",
       "Dep. Variable:                  price   R-squared:                       0.029\n",
       "Model:                            OLS   Adj. R-squared:                  0.029\n",
       "Method:                 Least Squares   F-statistic:                     150.2\n",
       "Date:                Fri, 07 Jan 2022   Prob (F-statistic):           4.72e-34\n",
       "Time:                        11:04:28   Log-Likelihood:                -71061.\n",
       "No. Observations:                5012   AIC:                         1.421e+05\n",
       "Df Residuals:                    5010   BIC:                         1.421e+05\n",
       "Df Model:                           1                                         \n",
       "Covariance Type:            nonrobust                                         \n",
       "================================================================================\n",
       "                   coef    std err          t      P>|t|      [0.025      0.975]\n",
       "--------------------------------------------------------------------------------\n",
       "const         1.038e+06   1.66e+04     62.507      0.000    1.01e+06    1.07e+06\n",
       "avg_bedrooms  4.881e+04   3981.858     12.257      0.000     4.1e+04    5.66e+04\n",
       "==============================================================================\n",
       "Omnibus:                        0.784   Durbin-Watson:                   1.994\n",
       "Prob(Omnibus):                  0.676   Jarque-Bera (JB):                0.821\n",
       "Skew:                           0.005   Prob(JB):                        0.663\n",
       "Kurtosis:                       2.938   Cond. No.                         14.8\n",
       "==============================================================================\n",
       "\n",
       "Notes:\n",
       "[1] Standard Errors assume that the covariance matrix of the errors is correctly specified.\n",
       "\"\"\""
      ]
     },
     "execution_count": 25,
     "metadata": {},
     "output_type": "execute_result"
    }
   ],
   "source": [
    "lm.summary()"
   ]
  },
  {
   "cell_type": "code",
   "execution_count": 26,
   "metadata": {},
   "outputs": [],
   "source": [
    "# const Coeeficient = 1.038e+06\n",
    "# avg_bedrooms Coefficient = 4.881e+04\n",
    "# Linear Equation = y = ax + b\n",
    "\n",
    "y_pred = 4.881e+04 * x['avg_bedrooms'] + 1.038e+06"
   ]
  },
  {
   "cell_type": "markdown",
   "metadata": {},
   "source": [
    "### 6. Plotting the above model"
   ]
  },
  {
   "cell_type": "code",
   "execution_count": 27,
   "metadata": {},
   "outputs": [],
   "source": [
    "import seaborn as sns\n",
    "import matplotlib.pyplot as plt"
   ]
  },
  {
   "cell_type": "code",
   "execution_count": 30,
   "metadata": {},
   "outputs": [
    {
     "data": {
      "image/png": "[encoded data removed]",
      "text/plain": [
       "<Figure size 432x288 with 1 Axes>"
      ]
     },
     "metadata": {
      "needs_background": "light"
     },
     "output_type": "display_data"
    }
   ],
   "source": [
    "# plotting the data points\n",
    "sns.scatterplot(x=x['avg_bedrooms'], y=y)\n",
    "\n",
    "#plotting the line\n",
    "sns.lineplot(x=x['avg_bedrooms'],y=y_pred, color='red')\n",
    "\n",
    "#axes\n",
    "plt.xlim(0)\n",
    "plt.ylim(0)\n",
    "plt.show()"
   ]
  },
  {
   "cell_type": "code",
   "execution_count": null,
   "metadata": {},
   "outputs": [],
   "source": []
  }
 ],
 "metadata": {
  "kernelspec": {
   "display_name": "Python 3",
   "language": "python",
   "name": "python3"
  },
  "language_info": {
   "codemirror_mode": {
    "name": "ipython",
    "version": 3
   },
   "file_extension": ".py",
   "mimetype": "text/x-python",
   "name": "python",
   "nbconvert_exporter": "python",
   "pygments_lexer": "ipython3",
   "version": "3.8.5"
  }
 },
 "nbformat": 4,
 "nbformat_minor": 4
}
