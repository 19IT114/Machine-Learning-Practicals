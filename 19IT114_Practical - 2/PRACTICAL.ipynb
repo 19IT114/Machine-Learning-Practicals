{
 "cells": [
  {
   "cell_type": "code",
   "execution_count": 1,
   "metadata": {},
   "outputs": [],
   "source": [
    "import pandas as pd\n",
    "import numpy as np\n",
    "import matplotlib.pyplot as plt"
   ]
  },
  {
   "cell_type": "code",
   "execution_count": 2,
   "metadata": {},
   "outputs": [
    {
     "data": {
      "text/html": [
       "<div>\n",
       "<style scoped>\n",
       "    .dataframe tbody tr th:only-of-type {\n",
       "        vertical-align: middle;\n",
       "    }\n",
       "\n",
       "    .dataframe tbody tr th {\n",
       "        vertical-align: top;\n",
       "    }\n",
       "\n",
       "    .dataframe thead th {\n",
       "        text-align: right;\n",
       "    }\n",
       "</style>\n",
       "<table border=\"1\" class=\"dataframe\">\n",
       "  <thead>\n",
       "    <tr style=\"text-align: right;\">\n",
       "      <th></th>\n",
       "      <th>Height</th>\n",
       "      <th>Weight</th>\n",
       "    </tr>\n",
       "  </thead>\n",
       "  <tbody>\n",
       "    <tr>\n",
       "      <th>0</th>\n",
       "      <td>1.47</td>\n",
       "      <td>52.21</td>\n",
       "    </tr>\n",
       "    <tr>\n",
       "      <th>1</th>\n",
       "      <td>1.50</td>\n",
       "      <td>53.12</td>\n",
       "    </tr>\n",
       "    <tr>\n",
       "      <th>2</th>\n",
       "      <td>1.52</td>\n",
       "      <td>54.48</td>\n",
       "    </tr>\n",
       "    <tr>\n",
       "      <th>3</th>\n",
       "      <td>1.55</td>\n",
       "      <td>55.84</td>\n",
       "    </tr>\n",
       "    <tr>\n",
       "      <th>4</th>\n",
       "      <td>1.57</td>\n",
       "      <td>57.20</td>\n",
       "    </tr>\n",
       "  </tbody>\n",
       "</table>\n",
       "</div>"
      ],
      "text/plain": [
       "   Height  Weight\n",
       "0    1.47   52.21\n",
       "1    1.50   53.12\n",
       "2    1.52   54.48\n",
       "3    1.55   55.84\n",
       "4    1.57   57.20"
      ]
     },
     "execution_count": 2,
     "metadata": {},
     "output_type": "execute_result"
    }
   ],
   "source": [
    "df = pd.read_csv(\"19IT114.csv\")\n",
    "df.head()"
   ]
  },
  {
   "cell_type": "code",
   "execution_count": 3,
   "metadata": {},
   "outputs": [
    {
     "data": {
      "text/plain": [
       "(15, 2)"
      ]
     },
     "execution_count": 3,
     "metadata": {},
     "output_type": "execute_result"
    }
   ],
   "source": [
    "df.shape"
   ]
  },
  {
   "cell_type": "code",
   "execution_count": 4,
   "metadata": {},
   "outputs": [
    {
     "data": {
      "text/plain": [
       "<function matplotlib.pyplot.show(close=None, block=None)>"
      ]
     },
     "execution_count": 4,
     "metadata": {},
     "output_type": "execute_result"
    },
    {
     "data": {
      "image/png": "[encoded data removed]",
      "text/plain": [
       "<Figure size 432x288 with 1 Axes>"
      ]
     },
     "metadata": {
      "needs_background": "light"
     },
     "output_type": "display_data"
    }
   ],
   "source": [
    "plt.scatter(df.Height,df.Weight)\n",
    "plt.show"
   ]
  },
  {
   "cell_type": "code",
   "execution_count": 6,
   "metadata": {},
   "outputs": [
    {
     "name": "stdout",
     "output_type": "stream",
     "text": [
      "1.6506666666666665 62.078\n",
      "61.272186542110624 -39.06195591884392\n"
     ]
    },
    {
     "data": {
      "image/png": "[encoded data removed]",
      "text/plain": [
       "<Figure size 432x288 with 1 Axes>"
      ]
     },
     "metadata": {
      "needs_background": "light"
     },
     "output_type": "display_data"
    }
   ],
   "source": [
    "# Model Development using ols\n",
    "# Select Data\n",
    "x_bar = df.Height.sum()/df.Weight.count()\n",
    "y_bar = df.Weight.sum()/df.Weight.count()\n",
    "print(x_bar,y_bar)\n",
    "\n",
    "n = ((df.Height-x_bar) * (df.Weight-y_bar)).sum()\n",
    "d = ((df.Height-x_bar)**2).sum()\n",
    "m = n/d\n",
    "b = y_bar - m * x_bar\n",
    "print(m,b)\n",
    "\n",
    "max_Height = df.Height.max()\n",
    "height = df.Height\n",
    "predicted_df = pd.DataFrame(data = range(0,int(max_Height)),columns={'X'})\n",
    "predicted_df['Y'] = height*m + (b)\n",
    "\n",
    "x = predicted_df['X']\n",
    "y = predicted_df['Y']\n",
    "\n",
    "plt.plot(x,y,c='black')\n",
    "plt.scatter(df.Height , df.Weight)\n",
    "plt.xlabel('Height')\n",
    "plt.ylabel('Weight')\n",
    "plt.title('Plotting For Regression Line Fit')\n",
    "plt.show()"
   ]
  },
  {
   "cell_type": "code",
   "execution_count": 10,
   "metadata": {},
   "outputs": [
    {
     "name": "stdout",
     "output_type": "stream",
     "text": [
      "4.708373076248757 2.8306970595771928\n",
      "RMSE IS : 51.85729389555311 -57.17605371989666\n"
     ]
    }
   ],
   "source": [
    "Height = df.iloc[:, 0]\n",
    "Weight = df.iloc[:, 1]\n",
    "\n",
    "m=0\n",
    "c=0\n",
    "\n",
    "L = 0.00001 #learning Rate\n",
    "epochs = 2500 #no of iterations to perform gradient descent\n",
    "n= float(len(Height)) #elements in x\n",
    "\n",
    "#performing gradient descent\n",
    "for i in range(epochs):\n",
    "    Y_pred = m*Height + c #current predicted value of Y\n",
    "    D_m = (-2/n) * sum(Height * (Weight - Y_pred))  #derivative wrt m\n",
    "    D_c = (-2/n) * sum(Weight - Y_pred)  #derivative wrt c\n",
    "    m = m - L * D_m  #update m\n",
    "    c = c - L * D_c  #update c\n",
    "    \n",
    "print (m,c)\n",
    "from math import sqrt\n",
    "from sklearn.metrics import mean_squared_error\n",
    "from sklearn.metrics import r2_score\n",
    "Y_pred = m*Height + c\n",
    "print(\"RMSE IS :\", sqrt(mean_squared_error(Weight,Y_pred)),r2_score(Weight,Y_pred))"
   ]
  },
  {
   "cell_type": "code",
   "execution_count": 12,
   "metadata": {},
   "outputs": [
    {
     "name": "stdout",
     "output_type": "stream",
     "text": [
      "RMSE IS : 0.7066615599131167 R2 Score : 0.9891969224457968\n"
     ]
    }
   ],
   "source": [
    "from sklearn import linear_model\n",
    "Height = pd.DataFrame(df.Height)\n",
    "Weight = df.Weight\n",
    "\n",
    "#creating object of algorithm\n",
    "rg = linear_model.LinearRegression()\n",
    "#creating model by fitting data\n",
    "rg.fit(Height,Weight)\n",
    "\n",
    "print(\"RMSE IS :\", sqrt(mean_squared_error(Weight,rg.predict(Height))), \"R2 Score :\" , r2_score(Weight,rg.predict(Height)))\n"
   ]
  },
  {
   "cell_type": "code",
   "execution_count": 13,
   "metadata": {},
   "outputs": [
    {
     "data": {
      "image/png": "[encoded data removed]",
      "text/plain": [
       "<Figure size 432x288 with 1 Axes>"
      ]
     },
     "metadata": {
      "needs_background": "light"
     },
     "output_type": "display_data"
    }
   ],
   "source": [
    "plt.scatter(Height , Weight)\n",
    "plt.plot([min(Height),max(Weight)], [min(Y_pred) , max(Y_pred)], color='blue')  #regression line\n",
    "plt.show()"
   ]
  },
  {
   "cell_type": "code",
   "execution_count": null,
   "metadata": {},
   "outputs": [],
   "source": []
  }
 ],
 "metadata": {
  "kernelspec": {
   "display_name": "Python 3",
   "language": "python",
   "name": "python3"
  },
  "language_info": {
   "codemirror_mode": {
    "name": "ipython",
    "version": 3
   },
   "file_extension": ".py",
   "mimetype": "text/x-python",
   "name": "python",
   "nbconvert_exporter": "python",
   "pygments_lexer": "ipython3",
   "version": "3.8.5"
  }
 },
 "nbformat": 4,
 "nbformat_minor": 5
}
