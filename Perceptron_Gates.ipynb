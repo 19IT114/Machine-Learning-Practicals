
{
  "nbformat": 4,
  "nbformat_minor": 0,
  "metadata": {
    "colab": {
      "name": "19IT037_Perceptron_Gates.ipynb",
      "provenance": [],
      "collapsed_sections": []
    },
    "kernelspec": {
      "name": "python3",
      "display_name": "Python 3"
    },
    "language_info": {
      "name": "python"
    }
  },
  "cells": [
        {
      "cell_type": "markdown",
      "source": [
        "Virag Patel - 19IT114",
      ]
      },
    {
      "cell_type": "code",
      "execution_count": null,
      "metadata": {
        "id": "7EAg0pVM_8MS"
      },
      "outputs": [],
      "source": [
        "import numpy as np\n"
      ]
    },
    {
      "cell_type": "code",
      "source": [
        "def unitStep(v):\n",
        "  if v >= 0:\n",
        "    return 1\n",
        "  else:\n",
        "    return 0"
      ],
      "metadata": {
        "id": "aZE-zc0eAQFf"
      },
      "execution_count": null,
      "outputs": []
    },
    {
      "cell_type": "code",
      "source": [
        "def perceptronModel(x,w,b):\n",
        "    v = np.dot(w, x) + b\n",
        "    y = unitStep(v)\n",
        "    return y\n"
      ],
      "metadata": {
        "id": "GuznnolbH3HE"
      },
      "execution_count": null,
      "outputs": []
    },
    {
      "cell_type": "code",
      "source": [
        "# OR Logic Function\n",
        "# w1 = 1, w2 = 1, b = -0.5\n",
        "def OR_logicFunction(x):\n",
        "    w = np.array([1, 1])\n",
        "    b = -0.5\n",
        "    return perceptronModel(x, w, b)\n",
        "  \n",
        "# testing the Perceptron Model\n",
        "test1 = np.array([0, 1])\n",
        "test2 = np.array([1, 1])\n",
        "test3 = np.array([0, 0])\n",
        "test4 = np.array([1, 0])\n",
        "  \n",
        "print(\"OR({}, {}) = {}\".format(0, 1, OR_logicFunction(test1)))\n",
        "print(\"OR({}, {}) = {}\".format(1, 1, OR_logicFunction(test2)))\n",
        "print(\"OR({}, {}) = {}\".format(0, 0, OR_logicFunction(test3)))\n",
        "print(\"OR({}, {}) = {}\".format(1, 0, OR_logicFunction(test4)))"
      ],
      "metadata": {
        "colab": {
          "base_uri": "https://localhost:8080/"
        },
        "id": "FDCOueKHJ-f1",
        "outputId": "dfd2029d-f60c-41e5-aa99-ce77e55b1d9e"
      },
      "execution_count": null,
      "outputs": [
        {
          "output_type": "stream",
          "name": "stdout",
          "text": [
            "OR(0, 1) = 1\n",
            "OR(1, 1) = 1\n",
            "OR(0, 0) = 0\n",
            "OR(1, 0) = 1\n"
          ]
        }
      ]
    },
    {
      "cell_type": "code",
      "source": [
        "#AND logic function\n",
        "\n",
        "def AND_logicFunction(x):\n",
        "  w = np.array([1,1])\n",
        "  b = -1.5\n",
        "  return perceptronModel(x, w, b)\n",
        "\n",
        "# testing the Perceptron Model\n",
        "test1 = np.array([0, 1])\n",
        "test2 = np.array([1, 1])\n",
        "test3 = np.array([0, 0])\n",
        "test4 = np.array([1, 0])\n",
        "  \n",
        "print(\"AND({}, {}) = {}\".format(0, 1, AND_logicFunction(test1)))\n",
        "print(\"AND({}, {}) = {}\".format(1, 1, AND_logicFunction(test2)))\n",
        "print(\"AND({}, {}) = {}\".format(0, 0, AND_logicFunction(test3)))\n",
        "print(\"AND({}, {}) = {}\".format(1, 0, AND_logicFunction(test4)))\n",
        "\n"
      ],
      "metadata": {
        "colab": {
          "base_uri": "https://localhost:8080/"
        },
        "id": "sZg1bSOoKdOn",
        "outputId": "fdd8d4d5-f4c1-43e6-82a3-c4da4c96d25e"
      },
      "execution_count": null,
      "outputs": [
        {
          "output_type": "stream",
          "name": "stdout",
          "text": [
            "AND(0, 1) = 0\n",
            "AND(1, 1) = 1\n",
            "AND(0, 0) = 0\n",
            "AND(1, 0) = 0\n"
          ]
        }
      ]
    },
    {
      "cell_type": "code",
      "source": [
        "#NOT logic function\n",
        "\n",
        "# NOT Logic Function\n",
        "def NOT_logicFunction(x):\n",
        "    w = -1\n",
        "    b = 0.5\n",
        "    return perceptronModel(x, w, b)\n",
        "  \n",
        "# testing the Perceptron Model\n",
        "test1 = np.array(1)\n",
        "test2 = np.array(0)\n",
        "  \n",
        "print(\"NOT({}) = {}\".format(1, NOT_logicFunction(test1)))\n",
        "print(\"NOT({}) = {}\".format(0, NOT_logicFunction(test2)))"
      ],
      "metadata": {
        "colab": {
          "base_uri": "https://localhost:8080/"
        },
        "id": "jVKlC8J8LrW7",
        "outputId": "ef4331f7-70b7-41aa-aafc-559016298031"
      },
      "execution_count": null,
      "outputs": [
        {
          "output_type": "stream",
          "name": "stdout",
          "text": [
            "NOT(1) = 0\n",
            "NOT(0) = 1\n"
          ]
        }
      ]
    }
  ]
}
